{
 "cells": [
  {
   "cell_type": "code",
   "execution_count": 1,
   "source": [
    "import tensorflow.keras as keras\r\n",
    "import tensorflow.keras.layers as layers\r\n",
    "import numpy as np\r\n",
    "import pandas as pd\r\n",
    "import matplotlib.pyplot as plt\r\n",
    "import uproot\r\n",
    "from sklearn.preprocessing import MinMaxScaler"
   ],
   "outputs": [],
   "metadata": {}
  },
  {
   "cell_type": "markdown",
   "source": [
    "# DNN Model for events with negative weights\r\n",
    "\r\n",
    "Next-to-leading order (NLO) event generators produce events with negative weights. However, these events are not physically meaningful. They are only meaningful when integrated over a finite phase space volume, which will yield net positive results. From this view, we can see that in principle, all the events in the NLO should have positive event weights. Any event with negative weight will have event(s) with positive weights near by such that the local probability density is non-negative.\r\n",
    "\r\n",
    "We build a DNN model that will predict positive weights for any given event. The problem is treated as that of a regression model. The positivity is enforced by having a sigmoid layer as the activation function of the output layer. "
   ],
   "metadata": {}
  },
  {
   "cell_type": "code",
   "execution_count": 2,
   "source": [
    "netarch = [128, 128]\r\n",
    "\r\n",
    "seqmodel = keras.Sequential()\r\n",
    "seqmodel.add(keras.Input(shape=(2,)))\r\n",
    "for anet in netarch:\r\n",
    "    seqmodel.add(layers.Dense(anet, activation=None))\r\n",
    "    seqmodel.add(layers.LeakyReLU())\r\n",
    "    seqmodel.add(layers.Dropout(rate=0.01))\r\n",
    "seqmodel.add(layers.Dense(1, activation='softplus'))\r\n",
    "seqmodel.summary()"
   ],
   "outputs": [
    {
     "output_type": "stream",
     "name": "stdout",
     "text": [
      "Model: \"sequential\"\n",
      "_________________________________________________________________\n",
      "Layer (type)                 Output Shape              Param #   \n",
      "=================================================================\n",
      "dense (Dense)                (None, 128)               384       \n",
      "_________________________________________________________________\n",
      "leaky_re_lu (LeakyReLU)      (None, 128)               0         \n",
      "_________________________________________________________________\n",
      "dropout (Dropout)            (None, 128)               0         \n",
      "_________________________________________________________________\n",
      "dense_1 (Dense)              (None, 128)               16512     \n",
      "_________________________________________________________________\n",
      "leaky_re_lu_1 (LeakyReLU)    (None, 128)               0         \n",
      "_________________________________________________________________\n",
      "dropout_1 (Dropout)          (None, 128)               0         \n",
      "_________________________________________________________________\n",
      "dense_2 (Dense)              (None, 1)                 129       \n",
      "=================================================================\n",
      "Total params: 17,025\n",
      "Trainable params: 17,025\n",
      "Non-trainable params: 0\n",
      "_________________________________________________________________\n"
     ]
    }
   ],
   "metadata": {}
  },
  {
   "cell_type": "markdown",
   "source": [
    "## W + jets aMC@NLO Delphes"
   ],
   "metadata": {}
  },
  {
   "cell_type": "code",
   "execution_count": 3,
   "source": [
    "up = uproot.open(\"wjetsselected.root\")\r\n",
    "roottree = up['mytree']\r\n",
    "df = roottree.pandas.df()\r\n",
    "df.columns"
   ],
   "outputs": [
    {
     "output_type": "execute_result",
     "data": {
      "text/plain": [
       "Index(['wjet.met', 'wjet.metphi', 'wjet.leppt', 'wjet.lepeta', 'wjet.lepphi',\n",
       "       'wjet.jetpt', 'wjet.jeteta', 'wjet.etphi', 'wjet.mt', 'wjet.evweight'],\n",
       "      dtype='object')"
      ]
     },
     "metadata": {},
     "execution_count": 3
    }
   ],
   "metadata": {}
  },
  {
   "cell_type": "code",
   "execution_count": 4,
   "source": [
    "# scale inputs to be within the range(0, 1)\r\n",
    "scaler = MinMaxScaler(feature_range=(-1, 1))\r\n",
    "transformed = scaler.fit_transform(df.iloc[:,:-1])\r\n",
    "\r\n",
    "transformeddf = pd.DataFrame(transformed, columns=df.columns[:-1])\r\n",
    "transformeddf"
   ],
   "outputs": [
    {
     "output_type": "execute_result",
     "data": {
      "text/html": [
       "<div>\n",
       "<style scoped>\n",
       "    .dataframe tbody tr th:only-of-type {\n",
       "        vertical-align: middle;\n",
       "    }\n",
       "\n",
       "    .dataframe tbody tr th {\n",
       "        vertical-align: top;\n",
       "    }\n",
       "\n",
       "    .dataframe thead th {\n",
       "        text-align: right;\n",
       "    }\n",
       "</style>\n",
       "<table border=\"1\" class=\"dataframe\">\n",
       "  <thead>\n",
       "    <tr style=\"text-align: right;\">\n",
       "      <th></th>\n",
       "      <th>wjet.met</th>\n",
       "      <th>wjet.metphi</th>\n",
       "      <th>wjet.leppt</th>\n",
       "      <th>wjet.lepeta</th>\n",
       "      <th>wjet.lepphi</th>\n",
       "      <th>wjet.jetpt</th>\n",
       "      <th>wjet.jeteta</th>\n",
       "      <th>wjet.etphi</th>\n",
       "      <th>wjet.mt</th>\n",
       "    </tr>\n",
       "  </thead>\n",
       "  <tbody>\n",
       "    <tr>\n",
       "      <th>0</th>\n",
       "      <td>-0.799603</td>\n",
       "      <td>-0.373114</td>\n",
       "      <td>-0.909054</td>\n",
       "      <td>-0.088143</td>\n",
       "      <td>-0.980890</td>\n",
       "      <td>-0.939607</td>\n",
       "      <td>-0.093551</td>\n",
       "      <td>0.431345</td>\n",
       "      <td>-0.927758</td>\n",
       "    </tr>\n",
       "    <tr>\n",
       "      <th>1</th>\n",
       "      <td>-0.828742</td>\n",
       "      <td>-0.606478</td>\n",
       "      <td>-0.824440</td>\n",
       "      <td>-0.446612</td>\n",
       "      <td>0.191422</td>\n",
       "      <td>-0.947351</td>\n",
       "      <td>0.266563</td>\n",
       "      <td>-0.645927</td>\n",
       "      <td>-0.792025</td>\n",
       "    </tr>\n",
       "    <tr>\n",
       "      <th>2</th>\n",
       "      <td>-0.942136</td>\n",
       "      <td>0.867365</td>\n",
       "      <td>-0.977394</td>\n",
       "      <td>0.135450</td>\n",
       "      <td>0.507349</td>\n",
       "      <td>-0.997193</td>\n",
       "      <td>0.519391</td>\n",
       "      <td>-0.329962</td>\n",
       "      <td>-0.934997</td>\n",
       "    </tr>\n",
       "    <tr>\n",
       "      <th>3</th>\n",
       "      <td>-0.823834</td>\n",
       "      <td>-0.090392</td>\n",
       "      <td>-0.956225</td>\n",
       "      <td>-0.912577</td>\n",
       "      <td>-0.513938</td>\n",
       "      <td>-0.951817</td>\n",
       "      <td>-0.030843</td>\n",
       "      <td>0.767760</td>\n",
       "      <td>-0.897048</td>\n",
       "    </tr>\n",
       "    <tr>\n",
       "      <th>4</th>\n",
       "      <td>-0.830582</td>\n",
       "      <td>-0.625658</td>\n",
       "      <td>-0.933273</td>\n",
       "      <td>-0.966449</td>\n",
       "      <td>0.477077</td>\n",
       "      <td>-0.987483</td>\n",
       "      <td>0.384980</td>\n",
       "      <td>0.658439</td>\n",
       "      <td>-0.737202</td>\n",
       "    </tr>\n",
       "    <tr>\n",
       "      <th>...</th>\n",
       "      <td>...</td>\n",
       "      <td>...</td>\n",
       "      <td>...</td>\n",
       "      <td>...</td>\n",
       "      <td>...</td>\n",
       "      <td>...</td>\n",
       "      <td>...</td>\n",
       "      <td>...</td>\n",
       "      <td>...</td>\n",
       "    </tr>\n",
       "    <tr>\n",
       "      <th>4759</th>\n",
       "      <td>-0.927992</td>\n",
       "      <td>0.959401</td>\n",
       "      <td>-0.739537</td>\n",
       "      <td>0.810013</td>\n",
       "      <td>0.287295</td>\n",
       "      <td>-0.906140</td>\n",
       "      <td>0.348302</td>\n",
       "      <td>-0.617482</td>\n",
       "      <td>-0.826558</td>\n",
       "    </tr>\n",
       "    <tr>\n",
       "      <th>4760</th>\n",
       "      <td>-0.776422</td>\n",
       "      <td>0.698425</td>\n",
       "      <td>-0.930375</td>\n",
       "      <td>-0.657188</td>\n",
       "      <td>-0.099189</td>\n",
       "      <td>-0.923240</td>\n",
       "      <td>-0.052413</td>\n",
       "      <td>-0.443947</td>\n",
       "      <td>-0.925427</td>\n",
       "    </tr>\n",
       "    <tr>\n",
       "      <th>4761</th>\n",
       "      <td>-0.861368</td>\n",
       "      <td>0.393622</td>\n",
       "      <td>-0.965542</td>\n",
       "      <td>0.072334</td>\n",
       "      <td>0.999654</td>\n",
       "      <td>-0.951054</td>\n",
       "      <td>-0.742939</td>\n",
       "      <td>-0.481872</td>\n",
       "      <td>-0.756285</td>\n",
       "    </tr>\n",
       "    <tr>\n",
       "      <th>4762</th>\n",
       "      <td>-0.938887</td>\n",
       "      <td>-0.886968</td>\n",
       "      <td>-0.824599</td>\n",
       "      <td>-0.719250</td>\n",
       "      <td>0.510224</td>\n",
       "      <td>-0.969637</td>\n",
       "      <td>0.036026</td>\n",
       "      <td>-0.403381</td>\n",
       "      <td>-0.847299</td>\n",
       "    </tr>\n",
       "    <tr>\n",
       "      <th>4763</th>\n",
       "      <td>-0.909932</td>\n",
       "      <td>0.991576</td>\n",
       "      <td>-0.951165</td>\n",
       "      <td>0.388815</td>\n",
       "      <td>0.839406</td>\n",
       "      <td>-0.966017</td>\n",
       "      <td>-0.459275</td>\n",
       "      <td>-0.013839</td>\n",
       "      <td>-0.816168</td>\n",
       "    </tr>\n",
       "  </tbody>\n",
       "</table>\n",
       "<p>4764 rows × 9 columns</p>\n",
       "</div>"
      ],
      "text/plain": [
       "      wjet.met  wjet.metphi  wjet.leppt  wjet.lepeta  wjet.lepphi  wjet.jetpt  \\\n",
       "0    -0.799603    -0.373114   -0.909054    -0.088143    -0.980890   -0.939607   \n",
       "1    -0.828742    -0.606478   -0.824440    -0.446612     0.191422   -0.947351   \n",
       "2    -0.942136     0.867365   -0.977394     0.135450     0.507349   -0.997193   \n",
       "3    -0.823834    -0.090392   -0.956225    -0.912577    -0.513938   -0.951817   \n",
       "4    -0.830582    -0.625658   -0.933273    -0.966449     0.477077   -0.987483   \n",
       "...        ...          ...         ...          ...          ...         ...   \n",
       "4759 -0.927992     0.959401   -0.739537     0.810013     0.287295   -0.906140   \n",
       "4760 -0.776422     0.698425   -0.930375    -0.657188    -0.099189   -0.923240   \n",
       "4761 -0.861368     0.393622   -0.965542     0.072334     0.999654   -0.951054   \n",
       "4762 -0.938887    -0.886968   -0.824599    -0.719250     0.510224   -0.969637   \n",
       "4763 -0.909932     0.991576   -0.951165     0.388815     0.839406   -0.966017   \n",
       "\n",
       "      wjet.jeteta  wjet.etphi   wjet.mt  \n",
       "0       -0.093551    0.431345 -0.927758  \n",
       "1        0.266563   -0.645927 -0.792025  \n",
       "2        0.519391   -0.329962 -0.934997  \n",
       "3       -0.030843    0.767760 -0.897048  \n",
       "4        0.384980    0.658439 -0.737202  \n",
       "...           ...         ...       ...  \n",
       "4759     0.348302   -0.617482 -0.826558  \n",
       "4760    -0.052413   -0.443947 -0.925427  \n",
       "4761    -0.742939   -0.481872 -0.756285  \n",
       "4762     0.036026   -0.403381 -0.847299  \n",
       "4763    -0.459275   -0.013839 -0.816168  \n",
       "\n",
       "[4764 rows x 9 columns]"
      ]
     },
     "metadata": {},
     "execution_count": 4
    }
   ],
   "metadata": {}
  },
  {
   "cell_type": "code",
   "execution_count": 5,
   "source": [
    "# prepare inputs and targets\r\n",
    "\r\n",
    "xin = transformeddf[['wjet.met', 'wjet.jetpt']]\r\n",
    "weights = df['wjet.evweight']\r\n",
    "scaling = max( weights.max(), -weights.min() )\r\n",
    "targetweights = weights/scaling"
   ],
   "outputs": [],
   "metadata": {}
  },
  {
   "cell_type": "markdown",
   "source": [
    "## Training"
   ],
   "metadata": {}
  },
  {
   "cell_type": "code",
   "execution_count": 6,
   "source": [
    "earlystopping_callback = keras.callbacks.EarlyStopping(patience=5, min_delta=1e-4)\r\n",
    "opt = keras.optimizers.Adam(learning_rate=1e-3)\r\n",
    "\r\n",
    "seqmodel.compile(optimizer=opt, loss='MSE')"
   ],
   "outputs": [],
   "metadata": {}
  },
  {
   "cell_type": "code",
   "execution_count": 14,
   "source": [
    "seqmodel.fit(xin, targetweights, batch_size=64, epochs=20, validation_split=0.5, callbacks=[])"
   ],
   "outputs": [
    {
     "output_type": "stream",
     "name": "stdout",
     "text": [
      "Epoch 1/20\n",
      "38/38 [==============================] - 0s 6ms/step - loss: 0.6630 - val_loss: 0.6350\n",
      "Epoch 2/20\n",
      "38/38 [==============================] - 0s 4ms/step - loss: 0.6623 - val_loss: 0.6343\n",
      "Epoch 3/20\n",
      "38/38 [==============================] - 0s 7ms/step - loss: 0.6623 - val_loss: 0.6346\n",
      "Epoch 4/20\n",
      "38/38 [==============================] - 0s 4ms/step - loss: 0.6627 - val_loss: 0.6342\n",
      "Epoch 5/20\n",
      "38/38 [==============================] - 0s 4ms/step - loss: 0.6618 - val_loss: 0.6343\n",
      "Epoch 6/20\n",
      "38/38 [==============================] - 0s 4ms/step - loss: 0.6620 - val_loss: 0.6346\n",
      "Epoch 7/20\n",
      "38/38 [==============================] - 0s 4ms/step - loss: 0.6616 - val_loss: 0.6342\n",
      "Epoch 8/20\n",
      "38/38 [==============================] - 0s 4ms/step - loss: 0.6629 - val_loss: 0.6364\n",
      "Epoch 9/20\n",
      "38/38 [==============================] - 0s 4ms/step - loss: 0.6638 - val_loss: 0.6342\n",
      "Epoch 10/20\n",
      "38/38 [==============================] - 0s 4ms/step - loss: 0.6626 - val_loss: 0.6346\n",
      "Epoch 11/20\n",
      "38/38 [==============================] - 0s 4ms/step - loss: 0.6618 - val_loss: 0.6341\n",
      "Epoch 12/20\n",
      "38/38 [==============================] - 0s 4ms/step - loss: 0.6623 - val_loss: 0.6347\n",
      "Epoch 13/20\n",
      "38/38 [==============================] - 0s 4ms/step - loss: 0.6615 - val_loss: 0.6341\n",
      "Epoch 14/20\n",
      "38/38 [==============================] - 0s 4ms/step - loss: 0.6615 - val_loss: 0.6340\n",
      "Epoch 15/20\n",
      "38/38 [==============================] - 0s 4ms/step - loss: 0.6625 - val_loss: 0.6358\n",
      "Epoch 16/20\n",
      "38/38 [==============================] - 0s 4ms/step - loss: 0.6625 - val_loss: 0.6342\n",
      "Epoch 17/20\n",
      "38/38 [==============================] - 0s 4ms/step - loss: 0.6623 - val_loss: 0.6356\n",
      "Epoch 18/20\n",
      "38/38 [==============================] - 0s 5ms/step - loss: 0.6628 - val_loss: 0.6342\n",
      "Epoch 19/20\n",
      "38/38 [==============================] - 0s 4ms/step - loss: 0.6617 - val_loss: 0.6347\n",
      "Epoch 20/20\n",
      "38/38 [==============================] - 0s 4ms/step - loss: 0.6619 - val_loss: 0.6347\n"
     ]
    },
    {
     "output_type": "execute_result",
     "data": {
      "text/plain": [
       "<tensorflow.python.keras.callbacks.History at 0x1ae92a49bc8>"
      ]
     },
     "metadata": {},
     "execution_count": 14
    }
   ],
   "metadata": {}
  },
  {
   "cell_type": "code",
   "execution_count": 15,
   "source": [
    "yout = seqmodel.predict(xin)"
   ],
   "outputs": [],
   "metadata": {}
  },
  {
   "cell_type": "code",
   "execution_count": 16,
   "source": [
    "fig,ax = plt.subplots(2,1, figsize=(6,10))\r\n",
    "plt.sca(ax[0])\r\n",
    "plt.hist(targetweights, range=(-1, 1), bins=50, log=False, label='event weights')\r\n",
    "plt.hist(yout[:,0], range=(-1, 1), color=(1.0, 0.5, 0.0), bins=50, label='positive resampled')\r\n",
    "plt.legend()\r\n",
    "plt.sca(ax[1])\r\n",
    "plt.hist(yout[:,0], bins=20, color=(1.0, 0.5, 0.0), label='positive resampled')\r\n",
    "plt.legend()\r\n",
    "plt.show()"
   ],
   "outputs": [
    {
     "output_type": "display_data",
     "data": {
      "image/png": "[encoded data removed]",
      "text/plain": [
       "<Figure size 432x720 with 2 Axes>"
      ]
     },
     "metadata": {
      "needs_background": "light"
     }
    }
   ],
   "metadata": {}
  },
  {
   "cell_type": "code",
   "execution_count": 33,
   "source": [
    "logy = False\r\n",
    "normed = False\r\n",
    "nbins = 20\r\n",
    "\r\n",
    "\r\n",
    "fig,ax = plt.subplots(2,1, figsize=(6,10))\r\n",
    "plt.sca(ax[0])\r\n",
    "var = df['wjet.jetpt']\r\n",
    "xrange = (0.0, 200.0)\r\n",
    "plt.hist(var, range=xrange, bins=nbins, density=normed, log=logy, color=(0.0, 1.0, 1.0, 0.5), label='no weights')\r\n",
    "ax[0].set_xlabel('jet $p_T$ (GeV)')\r\n",
    "plt.hist(var, range=xrange, density=normed, weights=targetweights, histtype='step', bins=nbins, label='weighted')\r\n",
    "plt.hist(var, range=xrange, density=normed, weights=yout, bins=nbins, histtype='step', label='positive resampled')\r\n",
    "plt.legend()\r\n",
    "plt.sca(ax[1])\r\n",
    "var =  df['wjet.leppt'] + df['wjet.met']\r\n",
    "xrange = (0.0, 200.0)\r\n",
    "plt.hist(var, range=xrange, bins=nbins, density=normed, log=logy, color=(0.0, 1.0, 1.0, 0.5), label='no weights')\r\n",
    "ax[1].set_xlabel('lepton $p_T$ + MET (GeV)')\r\n",
    "plt.hist(var, range=xrange, density=normed, weights=targetweights, histtype='step', bins=nbins, label='weighted')\r\n",
    "plt.hist(var, range=xrange, density=normed, weights=yout, bins=nbins, histtype='step', label='positive resampled')\r\n",
    "plt.legend()\r\n",
    "plt.show()"
   ],
   "outputs": [
    {
     "output_type": "display_data",
     "data": {
      "image/png": "[encoded data removed]",
      "text/plain": [
       "<Figure size 432x720 with 2 Axes>"
      ]
     },
     "metadata": {
      "needs_background": "light"
     }
    }
   ],
   "metadata": {}
  },
  {
   "cell_type": "code",
   "execution_count": 18,
   "source": [
    "df['wjet.jeteta']-df['wjet.lepeta']"
   ],
   "outputs": [
    {
     "output_type": "execute_result",
     "data": {
      "text/plain": [
       "entry\n",
       "0      -0.311358\n",
       "1       2.264742\n",
       "2       2.072861\n",
       "3       1.965642\n",
       "4       4.076337\n",
       "          ...   \n",
       "4759   -0.360979\n",
       "4760    1.250065\n",
       "4761   -3.790801\n",
       "4762    1.820399\n",
       "4763   -3.198500\n",
       "Length: 4764, dtype: float32"
      ]
     },
     "metadata": {},
     "execution_count": 18
    }
   ],
   "metadata": {}
  },
  {
   "cell_type": "code",
   "execution_count": null,
   "source": [],
   "outputs": [],
   "metadata": {}
  }
 ],
 "metadata": {
  "orig_nbformat": 4,
  "language_info": {
   "name": "python",
   "version": "3.7.6",
   "mimetype": "text/x-python",
   "codemirror_mode": {
    "name": "ipython",
    "version": 3
   },
   "pygments_lexer": "ipython3",
   "nbconvert_exporter": "python",
   "file_extension": ".py"
  },
  "kernelspec": {
   "name": "python3",
   "display_name": "Python 3.7.6 64-bit ('tf21': conda)"
  },
  "interpreter": {
   "hash": "b192e7c0d2143c107b3f2440807fd2794773ca706ef0e0a5bd0cd1a672ca7d00"
  }
 },
 "nbformat": 4,
 "nbformat_minor": 2
}